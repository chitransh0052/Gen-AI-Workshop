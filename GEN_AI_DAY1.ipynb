{
  "nbformat": 4,
  "nbformat_minor": 0,
  "metadata": {
    "colab": {
      "provenance": [],
      "authorship_tag": "ABX9TyPxv9pSf39p43H28yWwHMWE",
      "include_colab_link": true
    },
    "kernelspec": {
      "name": "python3",
      "display_name": "Python 3"
    },
    "language_info": {
      "name": "python"
    }
  },
  "cells": [
    {
      "cell_type": "markdown",
      "metadata": {
        "id": "view-in-github",
        "colab_type": "text"
      },
      "source": [
        "<a href=\"https://colab.research.google.com/github/chitransh0052/Gen-AI-Workshop/blob/master/GEN_AI_DAY1.ipynb\" target=\"_parent\"><img src=\"https://colab.research.google.com/assets/colab-badge.svg\" alt=\"Open In Colab\"/></a>"
      ]
    },
    {
      "cell_type": "code",
      "execution_count": 1,
      "metadata": {
        "id": "gx2Xy39-XJ8G"
      },
      "outputs": [],
      "source": [
        "import tensorflow as tf\n",
        "from tensorflow.keras.models import Sequential\n",
        "from tensorflow.keras.layers import Dense, Dropout, Activation, Flatten, Conv2D, MaxPooling2D    #Layers of the model\n",
        "from tensorflow.keras.datasets import mnist #dataset\n",
        "from tensorflow.keras.utils import to_categorical #it convets labels to one-hot format\n",
        "import matplotlib.pyplot as plt   #it is for plots or graphs\n",
        "from sklearn.metrics import confusion_matrix,ConfusionMatrixDisplay\n",
        "import numpy as np\n",
        "import random"
      ]
    },
    {
      "cell_type": "code",
      "source": [
        "#Step 1 Load and pre process the mnist datset\n",
        "(x_train,y_train),(x_test,y_test)=mnist.load_data()"
      ],
      "metadata": {
        "colab": {
          "base_uri": "https://localhost:8080/"
        },
        "id": "CQ-HPvuMKek6",
        "outputId": "5c329636-98b9-4c63-d7ce-ea357eed8c10"
      },
      "execution_count": 2,
      "outputs": [
        {
          "output_type": "stream",
          "name": "stdout",
          "text": [
            "Downloading data from https://storage.googleapis.com/tensorflow/tf-keras-datasets/mnist.npz\n",
            "\u001b[1m11490434/11490434\u001b[0m \u001b[32m━━━━━━━━━━━━━━━━━━━━\u001b[0m\u001b[37m\u001b[0m \u001b[1m1s\u001b[0m 0us/step\n"
          ]
        }
      ]
    },
    {
      "cell_type": "code",
      "source": [
        "#Step 2 normalize pixel value to range(0,1)\n",
        "x_train=x_train/255.0\n",
        "x_test=x_test/255.0"
      ],
      "metadata": {
        "id": "UbbcSab8KfIL"
      },
      "execution_count": 3,
      "outputs": []
    },
    {
      "cell_type": "code",
      "source": [
        "#Step 3 convert the labels to one hot encoded form\n",
        "y_train=to_categorical(y_train,10)   #10 classes and digits will be 0 to 9\n",
        "y_test=to_categorical(y_test,10)"
      ],
      "metadata": {
        "id": "s9SW-gKiKhrQ"
      },
      "execution_count": 4,
      "outputs": []
    },
    {
      "cell_type": "code",
      "source": [
        "#build the neural network model\n",
        "model=Sequential([\n",
        "    #flatten 28*28 impages to 1d vector of 784 features\n",
        "    Flatten(input_shape=(28,28)),\n",
        "    # first hiddden layers layers:128 neurons +relu activation\n",
        "    Dense(128,activation='relu'),\n",
        "    #dropout layer randomly drop 30% of neuron to reduce the overfitting\n",
        "    Dropout(0.3),\n",
        "    #second hidden layer: 64 neurons\n",
        "    Dense(64,activation='relu'),\n",
        "    Dropout(0.3),\n",
        "    #output layers: 10 neurons for 10 classes+ softmax activation\n",
        "    Dense(10,activation='softmax')\n",
        "])"
      ],
      "metadata": {
        "colab": {
          "base_uri": "https://localhost:8080/"
        },
        "id": "PKWFF_cLKjw0",
        "outputId": "290eddec-8deb-4c7c-fb9d-c1179ad97c3b"
      },
      "execution_count": 5,
      "outputs": [
        {
          "output_type": "stream",
          "name": "stderr",
          "text": [
            "/usr/local/lib/python3.12/dist-packages/keras/src/layers/reshaping/flatten.py:37: UserWarning: Do not pass an `input_shape`/`input_dim` argument to a layer. When using Sequential models, prefer using an `Input(shape)` object as the first layer in the model instead.\n",
            "  super().__init__(**kwargs)\n"
          ]
        }
      ]
    },
    {
      "cell_type": "code",
      "source": [
        "#Step 4 Compile the model\n",
        "#adam optimizer + categorical cross entropy loss for multi class classification\n",
        "model.compile(\n",
        "    optimizer='adam',\n",
        "    loss='categorical_crossentropy',\n",
        "    metrics=['accuracy'])"
      ],
      "metadata": {
        "id": "1GeN2WyiKmZT"
      },
      "execution_count": 6,
      "outputs": []
    },
    {
      "cell_type": "code",
      "source": [
        "#Step 5 Train the model\n",
        "#train with 10 epochs , batch aize 32 and 10% validation split\n",
        "history=model.fit (\n",
        "    x_train,y_train,\n",
        "    epochs=10,\n",
        "    batch_size=32,\n",
        "    validation_split=0.1,\n",
        "    verbose=1)"
      ],
      "metadata": {
        "colab": {
          "base_uri": "https://localhost:8080/"
        },
        "id": "6kGh8fRxKorP",
        "outputId": "bbb07f54-08e1-45f8-8928-f82a63115745"
      },
      "execution_count": 7,
      "outputs": [
        {
          "output_type": "stream",
          "name": "stdout",
          "text": [
            "Epoch 1/10\n",
            "\u001b[1m1688/1688\u001b[0m \u001b[32m━━━━━━━━━━━━━━━━━━━━\u001b[0m\u001b[37m\u001b[0m \u001b[1m12s\u001b[0m 6ms/step - accuracy: 0.7842 - loss: 0.6892 - val_accuracy: 0.9617 - val_loss: 0.1234\n",
            "Epoch 2/10\n",
            "\u001b[1m1688/1688\u001b[0m \u001b[32m━━━━━━━━━━━━━━━━━━━━\u001b[0m\u001b[37m\u001b[0m \u001b[1m12s\u001b[0m 7ms/step - accuracy: 0.9350 - loss: 0.2255 - val_accuracy: 0.9723 - val_loss: 0.1003\n",
            "Epoch 3/10\n",
            "\u001b[1m1688/1688\u001b[0m \u001b[32m━━━━━━━━━━━━━━━━━━━━\u001b[0m\u001b[37m\u001b[0m \u001b[1m9s\u001b[0m 5ms/step - accuracy: 0.9487 - loss: 0.1715 - val_accuracy: 0.9742 - val_loss: 0.0937\n",
            "Epoch 4/10\n",
            "\u001b[1m1688/1688\u001b[0m \u001b[32m━━━━━━━━━━━━━━━━━━━━\u001b[0m\u001b[37m\u001b[0m \u001b[1m10s\u001b[0m 6ms/step - accuracy: 0.9562 - loss: 0.1484 - val_accuracy: 0.9740 - val_loss: 0.0889\n",
            "Epoch 5/10\n",
            "\u001b[1m1688/1688\u001b[0m \u001b[32m━━━━━━━━━━━━━━━━━━━━\u001b[0m\u001b[37m\u001b[0m \u001b[1m10s\u001b[0m 6ms/step - accuracy: 0.9631 - loss: 0.1264 - val_accuracy: 0.9782 - val_loss: 0.0775\n",
            "Epoch 6/10\n",
            "\u001b[1m1688/1688\u001b[0m \u001b[32m━━━━━━━━━━━━━━━━━━━━\u001b[0m\u001b[37m\u001b[0m \u001b[1m11s\u001b[0m 6ms/step - accuracy: 0.9635 - loss: 0.1155 - val_accuracy: 0.9780 - val_loss: 0.0731\n",
            "Epoch 7/10\n",
            "\u001b[1m1688/1688\u001b[0m \u001b[32m━━━━━━━━━━━━━━━━━━━━\u001b[0m\u001b[37m\u001b[0m \u001b[1m8s\u001b[0m 5ms/step - accuracy: 0.9676 - loss: 0.1102 - val_accuracy: 0.9780 - val_loss: 0.0732\n",
            "Epoch 8/10\n",
            "\u001b[1m1688/1688\u001b[0m \u001b[32m━━━━━━━━━━━━━━━━━━━━\u001b[0m\u001b[37m\u001b[0m \u001b[1m9s\u001b[0m 6ms/step - accuracy: 0.9681 - loss: 0.1047 - val_accuracy: 0.9790 - val_loss: 0.0675\n",
            "Epoch 9/10\n",
            "\u001b[1m1688/1688\u001b[0m \u001b[32m━━━━━━━━━━━━━━━━━━━━\u001b[0m\u001b[37m\u001b[0m \u001b[1m10s\u001b[0m 6ms/step - accuracy: 0.9700 - loss: 0.0988 - val_accuracy: 0.9782 - val_loss: 0.0741\n",
            "Epoch 10/10\n",
            "\u001b[1m1688/1688\u001b[0m \u001b[32m━━━━━━━━━━━━━━━━━━━━\u001b[0m\u001b[37m\u001b[0m \u001b[1m8s\u001b[0m 5ms/step - accuracy: 0.9731 - loss: 0.0896 - val_accuracy: 0.9800 - val_loss: 0.0698\n"
          ]
        }
      ]
    },
    {
      "cell_type": "code",
      "source": [
        "#Step 6 evaluate the model\n",
        "test_loss,test_acc=model.evaluate(x_test,y_test,verbose=0)\n",
        "print(f'\\n Test accuracy:{test_acc:.4f}')\n",
        "print(f\"Test loss:{test_loss:.4f}\")"
      ],
      "metadata": {
        "colab": {
          "base_uri": "https://localhost:8080/"
        },
        "id": "ks48zOO1Kqjj",
        "outputId": "f52ca53d-c3d2-4f89-ccad-e94274ae9dca"
      },
      "execution_count": 8,
      "outputs": [
        {
          "output_type": "stream",
          "name": "stdout",
          "text": [
            "\n",
            " Test accuracy:0.9767\n",
            "Test loss:0.0847\n"
          ]
        }
      ]
    },
    {
      "cell_type": "code",
      "source": [
        "#Step 7 plot trainig and validation accuracy\n",
        "plt.plot(history.history['accuracy'],label='Training accuracy')\n",
        "plt.plot(history.history['val_accuracy'],label='Validation accuracy')\n",
        "plt.xlabel('Epochs')\n",
        "plt.ylabel('training vs validation accuracy')\n",
        "plt.legend()\n",
        "plt.grid(True)\n",
        "plt.show()"
      ],
      "metadata": {
        "colab": {
          "base_uri": "https://localhost:8080/",
          "height": 449
        },
        "id": "JRrU5TWIKtAt",
        "outputId": "94ebe5d8-df4f-414c-839f-5d1184a28973"
      },
      "execution_count": 9,
      "outputs": [
        {
          "output_type": "display_data",
          "data": {
            "text/plain": [
              "<Figure size 640x480 with 1 Axes>"
            ],
            "image/png": "[encoded data removed]"
          },
          "metadata": {}
        }
      ]
    },
    {
      "cell_type": "code",
      "source": [],
      "metadata": {
        "id": "G5kkZ90YKvUu"
      },
      "execution_count": null,
      "outputs": []
    }
  ]
}